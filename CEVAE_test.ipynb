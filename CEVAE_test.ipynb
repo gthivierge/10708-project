{
  "cells": [
    {
      "cell_type": "code",
      "execution_count": 3,
      "metadata": {
        "id": "G-AhDYI1kPeU"
      },
      "outputs": [],
      "source": [
        "\n",
        "import torch\n",
        "import torch.distributions\n",
        "import torch.nn as nn\n",
        "\n",
        "import matplotlib.pyplot as plt\n",
        "import numpy as np\n",
        "import pandas as pd\n",
        "\n",
        "import pyro\n",
        "import pyro.distributions as dist\n",
        "import pyro.contrib.examples.util  # patches torchvision\n",
        "from pyro.infer import SVI, Trace_ELBO\n",
        "from pyro.optim import Adam\n",
        "from pyro.contrib.cevae import CEVAE"
      ]
    },
    {
      "cell_type": "code",
      "execution_count": null,
      "metadata": {
        "id": "PyEVZfTWkfy5"
      },
      "outputs": [],
      "source": [
        "!pip3 install pyro-ppl"
      ]
    },
    {
      "cell_type": "code",
      "execution_count": 4,
      "metadata": {},
      "outputs": [],
      "source": [
        "import os\n",
        "\n",
        "os.chdir('/Users/gabriellethivierge/Documents/10708-project/raw_twins/')\n",
        "dat = pd.read_csv(\"cleaned_twins.csv\")\n",
        "dat.drop(dat.columns[[0, 1]], axis=1, inplace=True)"
      ]
    },
    {
      "cell_type": "code",
      "execution_count": 5,
      "metadata": {},
      "outputs": [],
      "source": [
        "\n",
        "def flip(x, p):\n",
        "      s = np.random.binomial(1, p, 1)\n",
        "      if s == 1:\n",
        "            z = 1 - x # flip it\n",
        "      else:\n",
        "            z = x # don't flip it\n",
        "      return(z)\n",
        "\n",
        "gestat_cols = [col for col in dat.columns if 'gestat' in col]\n",
        "\n",
        "twin_data = dat[gestat_cols].applymap(lambda x: flip(x, 0.2))\n",
        "\n",
        "\n"
      ]
    },
    {
      "cell_type": "code",
      "execution_count": 6,
      "metadata": {},
      "outputs": [],
      "source": [
        "# make x and y sets\n",
        "\n",
        "from sklearn.model_selection import train_test_split\n",
        "from sklearn.model_selection import cross_validate\n",
        "from sklearn.model_selection import KFold\n",
        "import random\n",
        "from random import choices\n",
        "\n",
        "twin_data['fold'] = random.choices([1,2,3,4,5,6,7,8,9,10], k=len(twin_data.index))\n",
        "\n",
        "# twin_x = twin_data.drop(['ID', 'bord_1', 'bord_0', 'mort_1', 'mort_0', 'dbirwt_1', 'dbirwt_0', 'Y'], axis=1)\n",
        "# twin_x[['dtotord_min', 'dlivord_min']] = twin_x[['dtotord_min', 'dlivord_min']].astype('category')\n",
        "# twin_y = twin_data['Y']\n"
      ]
    },
    {
      "cell_type": "code",
      "execution_count": 7,
      "metadata": {},
      "outputs": [],
      "source": [
        "\n",
        "def do_cevae(dat, num_layers_nh, flip_prob):\n",
        "\n",
        "    gestat_cols = [col for col in dat.columns if 'gestat' in col]\n",
        "\n",
        "    dat[gestat_cols].applymap(lambda x: flip(x, flip_prob))\n",
        "    twin_data = dat\n",
        "    twin_data['fold'] = random.choices([1,2,3,4,5,6,7,8,9,10], k=len(twin_data.index))\n",
        "\n",
        "    results = []\n",
        "    naive = []\n",
        "    lr = []\n",
        "    for i in range(1, 11):\n",
        "        train = twin_data[twin_data['fold'] != i]\n",
        "        test = twin_data[twin_data['fold'] == i]\n",
        "\n",
        "\n",
        "        x_train = train.drop(['bord_1', 'bord_0', 'mort_1', 'mort_0', 'dbirwt_1', 'dbirwt_0', 'Y'], axis=1)\n",
        "        x_train[['dtotord_min', 'dlivord_min']] = x_train[['dtotord_min', 'dlivord_min']].astype('category')\n",
        "\n",
        "        x_test = test.drop(['bord_1', 'bord_0', 'mort_1', 'mort_0', 'dbirwt_1', 'dbirwt_0', 'Y'], axis=1)\n",
        "        x_test[['dtotord_min', 'dlivord_min']] = x_test[['dtotord_min', 'dlivord_min']].astype('category')\n",
        "\n",
        "\n",
        "        x_train = torch.tensor(np.array(x_train)).to(torch.float32)\n",
        "        y_train = torch.tensor(np.array(train['Y'])).to(torch.float32)\n",
        "        t_train = torch.tensor(np.array(train['Treatment'])).to(torch.float32)\n",
        "\n",
        "        x_test = torch.tensor(np.array(x_test)).to(torch.float32)\n",
        "        y_test = torch.tensor(np.array(test['Y'])).to(torch.float32)\n",
        "        t_test = torch.tensor(np.array(test['Treatment'])).to(torch.float32)\n",
        "\n",
        "        cevae = CEVAE(\n",
        "        feature_dim = 74,\n",
        "        latent_dim  = 50,\n",
        "        hidden_dim = 200,\n",
        "        num_layers = num_layers_nh,\n",
        "        num_samples = len(x_train),\n",
        "        outcome_dist = \"bernoulli\",\n",
        "        )\n",
        "\n",
        "        cevae.fit(\n",
        "        x_train,\n",
        "        t_train,\n",
        "        y_train,\n",
        "        num_epochs = 100,\n",
        "        batch_size = 500,\n",
        "        learning_rate = 0.004,\n",
        "        learning_rate_decay = 0.1,\n",
        "        weight_decay = 1e-4,\n",
        "        )\n",
        "\n",
        "        naive_ate = y_test[t_test == 1].mean() - y_test[t_test == 0].mean()\n",
        "        est_ite = cevae.ite(x_test)\n",
        "        est_ate = est_ite.mean()\n",
        "\n",
        "        naive.append(naive_ate)\n",
        "        results.append(est_ate)\n",
        "\n",
        "    return(naive, results)\n",
        "\n",
        "# y_test = test['Y']\n",
        "\n",
        "# y2 = np.array(y_train)\n",
        "# x_train = torch.tensor(x2).to(torch.float32)\n",
        "\n",
        "# ## prep for input\n",
        "\n",
        "\n",
        "# t = twin_data['Treatment']\n",
        "# t_train = torch.tensor(t).to(torch.float32)\n",
        "\n",
        "# y = twin_data['Y']\n",
        "\n"
      ]
    },
    {
      "cell_type": "code",
      "execution_count": 30,
      "metadata": {},
      "outputs": [],
      "source": [
        "def do_cevae(dat, num_layers_nh, flip_prob):\n",
        "    gestat_cols = [col for col in dat.columns if 'gestat' in col]\n",
        "    dat['fold'] = random.choices([1,2,3,4,5], k=len(dat.index))\n",
        "\n",
        "    # flip_prob = 0.2\n",
        "    # num_layers_nh = 2\n",
        "\n",
        "    results = []\n",
        "    true_ate = []\n",
        "    for prob in flip_prob:\n",
        "        datcp = dat.copy()\n",
        "        datcp[gestat_cols].applymap(lambda x: flip(x, prob))\n",
        "        twin_data = datcp\n",
        "    \n",
        "        i = 1\n",
        "        # for i in range(1, 11):\n",
        "        train = twin_data[twin_data['fold'] != i]\n",
        "        test = twin_data[twin_data['fold'] == i]\n",
        "\n",
        "        y1 = test[['mort_1']].mean()\n",
        "        y0 = test[['mort_0']].mean()\n",
        "        true_ate.append(y1[0] - y0[0])\n",
        "\n",
        "        x_train = train.drop(['bord_1', 'bord_0', 'mort_1', 'mort_0', 'dbirwt_1', 'dbirwt_0', 'Y'], axis=1)\n",
        "        x_train[['dtotord_min', 'dlivord_min']] = x_train[['dtotord_min', 'dlivord_min']].astype('category')\n",
        "\n",
        "        x_test = test.drop(['bord_1', 'bord_0', 'mort_1', 'mort_0', 'dbirwt_1', 'dbirwt_0', 'Y'], axis=1)\n",
        "        x_test[['dtotord_min', 'dlivord_min']] = x_test[['dtotord_min', 'dlivord_min']].astype('category')\n",
        "\n",
        "\n",
        "        x_train = torch.tensor(np.array(x_train)).to(torch.float32)\n",
        "        y_train = torch.tensor(np.array(train['Y'])).to(torch.float32)\n",
        "        t_train = torch.tensor(np.array(train['Treatment'])).to(torch.float32)\n",
        "\n",
        "        x_test = torch.tensor(np.array(x_test)).to(torch.float32)\n",
        "        y_test = torch.tensor(np.array(test['Y'])).to(torch.float32)\n",
        "        t_test = torch.tensor(np.array(test['Treatment'])).to(torch.float32)\n",
        "\n",
        "        \n",
        "\n",
        "        cevae = CEVAE(\n",
        "        feature_dim = 74,\n",
        "        latent_dim  = 30,\n",
        "        hidden_dim = 200,\n",
        "        num_layers = num_layers_nh,\n",
        "        num_samples = len(x_train),\n",
        "        outcome_dist = \"bernoulli\",\n",
        "        )\n",
        "\n",
        "        cevae.fit(\n",
        "        x_train,\n",
        "        t_train,\n",
        "        y_train,\n",
        "        num_epochs = 1000,\n",
        "        batch_size = 500,\n",
        "        learning_rate = 0.004,\n",
        "        learning_rate_decay = 0.1,\n",
        "        weight_decay = 1e-4,\n",
        "        )\n",
        "\n",
        "        est_ite = cevae.ite(x_test)\n",
        "        est_ate = est_ite.mean()\n",
        "\n",
        "        results.append(est_ate)\n",
        "\n",
        "    return(true_ate, results)"
      ]
    },
    {
      "cell_type": "code",
      "execution_count": 22,
      "metadata": {},
      "outputs": [
        {
          "data": {
            "text/plain": [
              "-0.02603686635944702"
            ]
          },
          "execution_count": 22,
          "metadata": {},
          "output_type": "execute_result"
        }
      ],
      "source": [
        "gestat_cols = [col for col in dat.columns if 'gestat' in col]\n",
        "flip_prob  = 0.2\n",
        "dat[gestat_cols].applymap(lambda x: flip(x, flip_prob))\n",
        "twin_data = dat\n",
        "twin_data['fold'] = random.choices([1,2,3,4,5,6,7,8,9,10], k=len(twin_data.index))\n",
        "\n",
        "i = 1\n",
        "train = twin_data[twin_data['fold'] != i]\n",
        "test = twin_data[twin_data['fold'] == i]\n",
        "y1 = train[['mort_1']].mean()\n",
        "y0 = train[['mort_0']].mean()\n",
        "y1[0] - y0[0]"
      ]
    },
    {
      "cell_type": "code",
      "execution_count": 31,
      "metadata": {},
      "outputs": [
        {
          "name": "stderr",
          "output_type": "stream",
          "text": [
            "INFO \t Training with 8 minibatches per epoch\n",
            "INFO \t Evaluating 1 minibatches\n",
            "INFO \t Training with 8 minibatches per epoch\n",
            "INFO \t Evaluating 1 minibatches\n",
            "INFO \t Training with 8 minibatches per epoch\n",
            "INFO \t Evaluating 1 minibatches\n",
            "INFO \t Training with 8 minibatches per epoch\n",
            "INFO \t Evaluating 1 minibatches\n",
            "INFO \t Training with 8 minibatches per epoch\n",
            "INFO \t Evaluating 1 minibatches\n"
          ]
        },
        {
          "name": "stdout",
          "output_type": "stream",
          "text": [
            "[-0.020576131687242788, -0.020576131687242788, -0.020576131687242788, -0.020576131687242788, -0.020576131687242788]\n",
            "[tensor(-0.0261), tensor(-0.0009), tensor(0.0288), tensor(0.0188), tensor(0.0223)]\n"
          ]
        }
      ],
      "source": [
        "g = do_cevae(dat, 2, [0.1, 0.2, 0.3, 0.4, 0.5])\n",
        "\n",
        "print(g[0])\n",
        "print(g[1])\n",
        "\n",
        "# print(results)\n",
        "# print(naive)\n",
        "# np.mean(results)"
      ]
    },
    {
      "cell_type": "code",
      "execution_count": 200,
      "metadata": {},
      "outputs": [
        {
          "name": "stdout",
          "output_type": "stream",
          "text": [
            "[tensor(-0.0506), tensor(-0.0506), tensor(-0.0506), tensor(-0.0506), tensor(-0.0506)]\n",
            "[tensor(-0.0044), tensor(-0.0044), tensor(-0.0044), tensor(-0.0044), tensor(-0.0044)]\n",
            "[tensor(0.0103), tensor(0.0436), tensor(0.0139), tensor(-0.0029), tensor(0.0078)]\n"
          ]
        }
      ],
      "source": [
        "print(g[0])\n",
        "print(g[1])\n",
        "print(g[2])\n",
        "\n",
        "\n",
        "# def cevae_function(x, y, t, k):\n",
        "\n",
        "#     x_vars = torch.tensor(np.array(x.drop('Treatment'))).to(torch.float32) \n",
        "#     tx = torch.tensor(np.array(x['Treatment'])).to(torch.float32) \n",
        "#     Y = torch.tensor(np.array(y)).to(torch.float32)\n",
        "\n",
        "#     cevae = CEVAE(\n",
        "#     feature_dim = 74,\n",
        "#     latent_dim  = 50,\n",
        "#     hidden_dim = 200,\n",
        "#     num_layers = 3,\n",
        "#     num_samples = len(x_vars.index),\n",
        "#     outcome_dist = \"bernoulli\",\n",
        "#     )\n",
        "\n",
        "#     cevae.fit(\n",
        "#     x_vars,\n",
        "#     tx,\n",
        "#     Y,\n",
        "#     num_epochs = 1000,\n",
        "#     batch_size = 500,\n",
        "#     learning_rate = 0.004,\n",
        "#     learning_rate_decay = 0.1,\n",
        "#     weight_decay = 1e-4,\n",
        "#     )\n",
        "    \n",
        "#     est_ite = cevae.ite(x_test)\n",
        "#     est_ate = est_ite.mean()\n",
        "#     return(est_ate)\n",
        "\n",
        "# Evaluate.\n",
        "# x_test, t_test, y_test, true_ite = generate_data_gaussian()\n",
        "# true_ate = true_ite.mean()\n",
        "# print(\"true ATE = {:0.3g}\".format(true_ate.item()))\n",
        "# naive_ate = y_test[t_test == 1].mean() - y_test[t_test == 0].mean()\n",
        "# print(\"naive ATE = {:0.3g}\".format(naive_ate))\n"
      ]
    },
    {
      "cell_type": "code",
      "execution_count": null,
      "metadata": {},
      "outputs": [],
      "source": [
        "g[0]"
      ]
    },
    {
      "cell_type": "code",
      "execution_count": 131,
      "metadata": {},
      "outputs": [
        {
          "name": "stderr",
          "output_type": "stream",
          "text": [
            "INFO \t Evaluating 1 minibatches\n",
            "INFO \t Training with 9 minibatches per epoch\n",
            "INFO \t Evaluating 1 minibatches\n",
            "INFO \t Training with 9 minibatches per epoch\n",
            "INFO \t Evaluating 1 minibatches\n",
            "INFO \t Training with 9 minibatches per epoch\n",
            "INFO \t Evaluating 1 minibatches\n",
            "INFO \t Training with 9 minibatches per epoch\n",
            "INFO \t Evaluating 1 minibatches\n",
            "INFO \t Training with 9 minibatches per epoch\n",
            "INFO \t Evaluating 1 minibatches\n",
            "INFO \t Training with 9 minibatches per epoch\n",
            "INFO \t Evaluating 1 minibatches\n",
            "INFO \t Training with 9 minibatches per epoch\n",
            "INFO \t Evaluating 1 minibatches\n",
            "INFO \t Training with 9 minibatches per epoch\n",
            "INFO \t Evaluating 1 minibatches\n",
            "INFO \t Training with 9 minibatches per epoch\n",
            "INFO \t Evaluating 1 minibatches\n"
          ]
        }
      ],
      "source": []
    },
    {
      "cell_type": "code",
      "execution_count": null,
      "metadata": {},
      "outputs": [],
      "source": [
        "result_2_1 = do_cevae(dat, 2, 0.1)\n",
        "result_2_2 = do_cevae(dat, 2, 0.2)\n",
        "result_2_3 = do_cevae(dat, 2, 0.3)\n",
        "result_2_4 = do_cevae(dat, 2, 0.4)\n",
        "result_2_5 = do_cevae(dat, 2, 0.5)"
      ]
    },
    {
      "cell_type": "code",
      "execution_count": 133,
      "metadata": {},
      "outputs": [
        {
          "name": "stdout",
          "output_type": "stream",
          "text": [
            "None\n"
          ]
        }
      ],
      "source": [
        "print(g)"
      ]
    },
    {
      "cell_type": "code",
      "execution_count": null,
      "metadata": {},
      "outputs": [],
      "source": [
        "est_ite = cevae.ite(x_test)\n",
        "est_ate = est_ite.mean()\n",
        "print(\"estimated ATE = {:0.3g}\".format(est_ate.item()))"
      ]
    },
    {
      "cell_type": "code",
      "execution_count": null,
      "metadata": {},
      "outputs": [],
      "source": [
        "gestat_cols = [col for col in dat.columns if 'gestat' in col]\n",
        "\n",
        "dat[gestat_cols].applymap(lambda x: flip(x, 0.2))\n",
        "twin_data = dat\n",
        "twin_data['fold'] = random.choices([1,2,3,4,5,6,7,8,9,10], k=len(twin_data.index))\n",
        "i = 1\n",
        "train = twin_data[twin_data['fold'] != i]\n",
        "test = twin_data[twin_data['fold'] == i]\n",
        "\n",
        "x_train = train.drop(['bord_1', 'bord_0', 'mort_1', 'mort_0', 'dbirwt_1', 'dbirwt_0', 'Y'], axis=1)\n",
        "        \n",
        "\n",
        "print(len(x_test))"
      ]
    }
  ],
  "metadata": {
    "colab": {
      "provenance": []
    },
    "kernelspec": {
      "display_name": "Python 3",
      "name": "python3"
    },
    "language_info": {
      "codemirror_mode": {
        "name": "ipython",
        "version": 3
      },
      "file_extension": ".py",
      "mimetype": "text/x-python",
      "name": "python",
      "nbconvert_exporter": "python",
      "pygments_lexer": "ipython3",
      "version": "3.8.8"
    }
  },
  "nbformat": 4,
  "nbformat_minor": 0
}
